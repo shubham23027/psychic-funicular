{
 "cells": [
  {
   "cell_type": "code",
   "execution_count": 19,
   "metadata": {},
   "outputs": [],
   "source": [
    "import numpy as np\n",
    "import pandas as pd\n",
    "from matplotlib import pyplot as plt\n",
    "from sklearn.cluster import KMeans\n",
    "from sklearn import datasets, linear_model, model_selection,preprocessing\n",
    "from sklearn.preprocessing import MinMaxScaler\n",
    "from sklearn.model_selection import train_test_split\n"
   ]
  },
  {
   "cell_type": "code",
   "execution_count": 20,
   "metadata": {},
   "outputs": [],
   "source": [
    "df=pd.read_csv('bird.csv')"
   ]
  },
  {
   "cell_type": "code",
   "execution_count": 21,
   "metadata": {},
   "outputs": [
    {
     "data": {
      "text/html": [
       "<div>\n",
       "<style scoped>\n",
       "    .dataframe tbody tr th:only-of-type {\n",
       "        vertical-align: middle;\n",
       "    }\n",
       "\n",
       "    .dataframe tbody tr th {\n",
       "        vertical-align: top;\n",
       "    }\n",
       "\n",
       "    .dataframe thead th {\n",
       "        text-align: right;\n",
       "    }\n",
       "</style>\n",
       "<table border=\"1\" class=\"dataframe\">\n",
       "  <thead>\n",
       "    <tr style=\"text-align: right;\">\n",
       "      <th></th>\n",
       "      <th>id</th>\n",
       "      <th>huml</th>\n",
       "      <th>humw</th>\n",
       "      <th>ulnal</th>\n",
       "      <th>ulnaw</th>\n",
       "      <th>feml</th>\n",
       "      <th>femw</th>\n",
       "      <th>tibl</th>\n",
       "      <th>tibw</th>\n",
       "      <th>tarl</th>\n",
       "      <th>tarw</th>\n",
       "      <th>type</th>\n",
       "    </tr>\n",
       "  </thead>\n",
       "  <tbody>\n",
       "    <tr>\n",
       "      <th>0</th>\n",
       "      <td>0</td>\n",
       "      <td>80.78</td>\n",
       "      <td>6.68</td>\n",
       "      <td>72.01</td>\n",
       "      <td>4.88</td>\n",
       "      <td>41.81</td>\n",
       "      <td>3.70</td>\n",
       "      <td>5.50</td>\n",
       "      <td>4.03</td>\n",
       "      <td>38.70</td>\n",
       "      <td>3.84</td>\n",
       "      <td>SW</td>\n",
       "    </tr>\n",
       "    <tr>\n",
       "      <th>1</th>\n",
       "      <td>1</td>\n",
       "      <td>88.91</td>\n",
       "      <td>6.63</td>\n",
       "      <td>80.53</td>\n",
       "      <td>5.59</td>\n",
       "      <td>47.04</td>\n",
       "      <td>4.30</td>\n",
       "      <td>80.22</td>\n",
       "      <td>4.51</td>\n",
       "      <td>41.50</td>\n",
       "      <td>4.01</td>\n",
       "      <td>SW</td>\n",
       "    </tr>\n",
       "    <tr>\n",
       "      <th>2</th>\n",
       "      <td>2</td>\n",
       "      <td>79.97</td>\n",
       "      <td>6.37</td>\n",
       "      <td>69.26</td>\n",
       "      <td>5.28</td>\n",
       "      <td>43.07</td>\n",
       "      <td>3.90</td>\n",
       "      <td>75.35</td>\n",
       "      <td>4.04</td>\n",
       "      <td>38.31</td>\n",
       "      <td>3.34</td>\n",
       "      <td>SW</td>\n",
       "    </tr>\n",
       "    <tr>\n",
       "      <th>3</th>\n",
       "      <td>3</td>\n",
       "      <td>77.65</td>\n",
       "      <td>5.70</td>\n",
       "      <td>65.76</td>\n",
       "      <td>4.77</td>\n",
       "      <td>40.04</td>\n",
       "      <td>3.52</td>\n",
       "      <td>69.17</td>\n",
       "      <td>3.40</td>\n",
       "      <td>35.78</td>\n",
       "      <td>3.41</td>\n",
       "      <td>SW</td>\n",
       "    </tr>\n",
       "    <tr>\n",
       "      <th>4</th>\n",
       "      <td>4</td>\n",
       "      <td>62.80</td>\n",
       "      <td>4.84</td>\n",
       "      <td>52.09</td>\n",
       "      <td>3.73</td>\n",
       "      <td>33.95</td>\n",
       "      <td>2.72</td>\n",
       "      <td>56.27</td>\n",
       "      <td>2.96</td>\n",
       "      <td>31.88</td>\n",
       "      <td>3.13</td>\n",
       "      <td>SW</td>\n",
       "    </tr>\n",
       "  </tbody>\n",
       "</table>\n",
       "</div>"
      ],
      "text/plain": [
       "   id   huml  humw  ulnal  ulnaw   feml  femw   tibl  tibw   tarl  tarw type\n",
       "0   0  80.78  6.68  72.01   4.88  41.81  3.70   5.50  4.03  38.70  3.84   SW\n",
       "1   1  88.91  6.63  80.53   5.59  47.04  4.30  80.22  4.51  41.50  4.01   SW\n",
       "2   2  79.97  6.37  69.26   5.28  43.07  3.90  75.35  4.04  38.31  3.34   SW\n",
       "3   3  77.65  5.70  65.76   4.77  40.04  3.52  69.17  3.40  35.78  3.41   SW\n",
       "4   4  62.80  4.84  52.09   3.73  33.95  2.72  56.27  2.96  31.88  3.13   SW"
      ]
     },
     "execution_count": 21,
     "metadata": {},
     "output_type": "execute_result"
    }
   ],
   "source": [
    "df.head()"
   ]
  },
  {
   "cell_type": "code",
   "execution_count": 17,
   "metadata": {},
   "outputs": [
    {
     "name": "stdout",
     "output_type": "stream",
     "text": [
      "<class 'pandas.core.frame.DataFrame'>\n",
      "RangeIndex: 413 entries, 0 to 412\n",
      "Data columns (total 12 columns):\n",
      " #   Column  Non-Null Count  Dtype  \n",
      "---  ------  --------------  -----  \n",
      " 0   id      413 non-null    int64  \n",
      " 1   huml    413 non-null    float64\n",
      " 2   humw    413 non-null    float64\n",
      " 3   ulnal   413 non-null    float64\n",
      " 4   ulnaw   413 non-null    float64\n",
      " 5   feml    413 non-null    float64\n",
      " 6   femw    413 non-null    float64\n",
      " 7   tibl    413 non-null    float64\n",
      " 8   tibw    413 non-null    float64\n",
      " 9   tarl    413 non-null    float64\n",
      " 10  tarw    413 non-null    float64\n",
      " 11  type    413 non-null    object \n",
      "dtypes: float64(10), int64(1), object(1)\n",
      "memory usage: 38.8+ KB\n"
     ]
    }
   ],
   "source": [
    "df.info()"
   ]
  },
  {
   "cell_type": "code",
   "execution_count": 22,
   "metadata": {},
   "outputs": [
    {
     "data": {
      "text/plain": [
       "id       0\n",
       "huml     0\n",
       "humw     0\n",
       "ulnal    0\n",
       "ulnaw    0\n",
       "feml     0\n",
       "femw     0\n",
       "tibl     0\n",
       "tibw     0\n",
       "tarl     0\n",
       "tarw     0\n",
       "type     0\n",
       "dtype: int64"
      ]
     },
     "execution_count": 22,
     "metadata": {},
     "output_type": "execute_result"
    }
   ],
   "source": [
    "df.isnull().sum()"
   ]
  },
  {
   "cell_type": "code",
   "execution_count": 23,
   "metadata": {},
   "outputs": [],
   "source": [
    "X=df.drop(\"type\", axis=1)\n",
    "Y=df[\"type\"]"
   ]
  },
  {
   "cell_type": "code",
   "execution_count": 24,
   "metadata": {},
   "outputs": [
    {
     "data": {
      "text/html": [
       "<div>\n",
       "<style scoped>\n",
       "    .dataframe tbody tr th:only-of-type {\n",
       "        vertical-align: middle;\n",
       "    }\n",
       "\n",
       "    .dataframe tbody tr th {\n",
       "        vertical-align: top;\n",
       "    }\n",
       "\n",
       "    .dataframe thead th {\n",
       "        text-align: right;\n",
       "    }\n",
       "</style>\n",
       "<table border=\"1\" class=\"dataframe\">\n",
       "  <thead>\n",
       "    <tr style=\"text-align: right;\">\n",
       "      <th></th>\n",
       "      <th>id</th>\n",
       "      <th>huml</th>\n",
       "      <th>humw</th>\n",
       "      <th>ulnal</th>\n",
       "      <th>ulnaw</th>\n",
       "      <th>feml</th>\n",
       "      <th>femw</th>\n",
       "      <th>tibl</th>\n",
       "      <th>tibw</th>\n",
       "      <th>tarl</th>\n",
       "      <th>tarw</th>\n",
       "    </tr>\n",
       "  </thead>\n",
       "  <tbody>\n",
       "    <tr>\n",
       "      <th>0</th>\n",
       "      <td>0</td>\n",
       "      <td>80.78</td>\n",
       "      <td>6.68</td>\n",
       "      <td>72.01</td>\n",
       "      <td>4.88</td>\n",
       "      <td>41.81</td>\n",
       "      <td>3.70</td>\n",
       "      <td>5.50</td>\n",
       "      <td>4.03</td>\n",
       "      <td>38.70</td>\n",
       "      <td>3.84</td>\n",
       "    </tr>\n",
       "    <tr>\n",
       "      <th>1</th>\n",
       "      <td>1</td>\n",
       "      <td>88.91</td>\n",
       "      <td>6.63</td>\n",
       "      <td>80.53</td>\n",
       "      <td>5.59</td>\n",
       "      <td>47.04</td>\n",
       "      <td>4.30</td>\n",
       "      <td>80.22</td>\n",
       "      <td>4.51</td>\n",
       "      <td>41.50</td>\n",
       "      <td>4.01</td>\n",
       "    </tr>\n",
       "    <tr>\n",
       "      <th>2</th>\n",
       "      <td>2</td>\n",
       "      <td>79.97</td>\n",
       "      <td>6.37</td>\n",
       "      <td>69.26</td>\n",
       "      <td>5.28</td>\n",
       "      <td>43.07</td>\n",
       "      <td>3.90</td>\n",
       "      <td>75.35</td>\n",
       "      <td>4.04</td>\n",
       "      <td>38.31</td>\n",
       "      <td>3.34</td>\n",
       "    </tr>\n",
       "    <tr>\n",
       "      <th>3</th>\n",
       "      <td>3</td>\n",
       "      <td>77.65</td>\n",
       "      <td>5.70</td>\n",
       "      <td>65.76</td>\n",
       "      <td>4.77</td>\n",
       "      <td>40.04</td>\n",
       "      <td>3.52</td>\n",
       "      <td>69.17</td>\n",
       "      <td>3.40</td>\n",
       "      <td>35.78</td>\n",
       "      <td>3.41</td>\n",
       "    </tr>\n",
       "    <tr>\n",
       "      <th>4</th>\n",
       "      <td>4</td>\n",
       "      <td>62.80</td>\n",
       "      <td>4.84</td>\n",
       "      <td>52.09</td>\n",
       "      <td>3.73</td>\n",
       "      <td>33.95</td>\n",
       "      <td>2.72</td>\n",
       "      <td>56.27</td>\n",
       "      <td>2.96</td>\n",
       "      <td>31.88</td>\n",
       "      <td>3.13</td>\n",
       "    </tr>\n",
       "  </tbody>\n",
       "</table>\n",
       "</div>"
      ],
      "text/plain": [
       "   id   huml  humw  ulnal  ulnaw   feml  femw   tibl  tibw   tarl  tarw\n",
       "0   0  80.78  6.68  72.01   4.88  41.81  3.70   5.50  4.03  38.70  3.84\n",
       "1   1  88.91  6.63  80.53   5.59  47.04  4.30  80.22  4.51  41.50  4.01\n",
       "2   2  79.97  6.37  69.26   5.28  43.07  3.90  75.35  4.04  38.31  3.34\n",
       "3   3  77.65  5.70  65.76   4.77  40.04  3.52  69.17  3.40  35.78  3.41\n",
       "4   4  62.80  4.84  52.09   3.73  33.95  2.72  56.27  2.96  31.88  3.13"
      ]
     },
     "execution_count": 24,
     "metadata": {},
     "output_type": "execute_result"
    }
   ],
   "source": [
    "X.head()"
   ]
  },
  {
   "cell_type": "code",
   "execution_count": 25,
   "metadata": {},
   "outputs": [
    {
     "name": "stdout",
     "output_type": "stream",
     "text": [
      "(330, 11) (330,)\n",
      "(83, 11) (83,)\n"
     ]
    }
   ],
   "source": [
    "X_train, X_test, Y_train, Y_test = train_test_split(X,Y,test_size=0.2)\n",
    "print(X_train.shape, Y_train.shape)\n",
    "print(X_test.shape, Y_test.shape)"
   ]
  },
  {
   "cell_type": "code",
   "execution_count": 29,
   "metadata": {},
   "outputs": [
    {
     "data": {
      "text/html": [
       "<div>\n",
       "<style scoped>\n",
       "    .dataframe tbody tr th:only-of-type {\n",
       "        vertical-align: middle;\n",
       "    }\n",
       "\n",
       "    .dataframe tbody tr th {\n",
       "        vertical-align: top;\n",
       "    }\n",
       "\n",
       "    .dataframe thead th {\n",
       "        text-align: right;\n",
       "    }\n",
       "</style>\n",
       "<table border=\"1\" class=\"dataframe\">\n",
       "  <thead>\n",
       "    <tr style=\"text-align: right;\">\n",
       "      <th></th>\n",
       "      <th>id</th>\n",
       "      <th>huml</th>\n",
       "      <th>humw</th>\n",
       "      <th>ulnal</th>\n",
       "      <th>ulnaw</th>\n",
       "      <th>feml</th>\n",
       "      <th>femw</th>\n",
       "      <th>tibl</th>\n",
       "      <th>tibw</th>\n",
       "      <th>tarl</th>\n",
       "      <th>tarw</th>\n",
       "    </tr>\n",
       "  </thead>\n",
       "  <tbody>\n",
       "    <tr>\n",
       "      <th>267</th>\n",
       "      <td>267</td>\n",
       "      <td>26.92</td>\n",
       "      <td>2.73</td>\n",
       "      <td>31.54</td>\n",
       "      <td>2.01</td>\n",
       "      <td>19.10</td>\n",
       "      <td>1.59</td>\n",
       "      <td>26.68</td>\n",
       "      <td>1.35</td>\n",
       "      <td>13.21</td>\n",
       "      <td>1.23</td>\n",
       "    </tr>\n",
       "    <tr>\n",
       "      <th>287</th>\n",
       "      <td>287</td>\n",
       "      <td>20.06</td>\n",
       "      <td>1.73</td>\n",
       "      <td>23.15</td>\n",
       "      <td>1.49</td>\n",
       "      <td>16.63</td>\n",
       "      <td>1.57</td>\n",
       "      <td>24.71</td>\n",
       "      <td>1.29</td>\n",
       "      <td>15.19</td>\n",
       "      <td>1.24</td>\n",
       "    </tr>\n",
       "    <tr>\n",
       "      <th>331</th>\n",
       "      <td>331</td>\n",
       "      <td>20.62</td>\n",
       "      <td>1.87</td>\n",
       "      <td>23.45</td>\n",
       "      <td>1.75</td>\n",
       "      <td>20.96</td>\n",
       "      <td>1.68</td>\n",
       "      <td>34.64</td>\n",
       "      <td>1.76</td>\n",
       "      <td>24.80</td>\n",
       "      <td>1.46</td>\n",
       "    </tr>\n",
       "    <tr>\n",
       "      <th>150</th>\n",
       "      <td>150</td>\n",
       "      <td>111.99</td>\n",
       "      <td>6.33</td>\n",
       "      <td>125.88</td>\n",
       "      <td>5.13</td>\n",
       "      <td>45.67</td>\n",
       "      <td>3.74</td>\n",
       "      <td>84.80</td>\n",
       "      <td>3.93</td>\n",
       "      <td>52.74</td>\n",
       "      <td>3.10</td>\n",
       "    </tr>\n",
       "    <tr>\n",
       "      <th>148</th>\n",
       "      <td>148</td>\n",
       "      <td>116.72</td>\n",
       "      <td>6.08</td>\n",
       "      <td>133.82</td>\n",
       "      <td>6.32</td>\n",
       "      <td>44.55</td>\n",
       "      <td>3.60</td>\n",
       "      <td>78.04</td>\n",
       "      <td>3.99</td>\n",
       "      <td>48.78</td>\n",
       "      <td>2.72</td>\n",
       "    </tr>\n",
       "  </tbody>\n",
       "</table>\n",
       "</div>"
      ],
      "text/plain": [
       "      id    huml  humw   ulnal  ulnaw   feml  femw   tibl  tibw   tarl  tarw\n",
       "267  267   26.92  2.73   31.54   2.01  19.10  1.59  26.68  1.35  13.21  1.23\n",
       "287  287   20.06  1.73   23.15   1.49  16.63  1.57  24.71  1.29  15.19  1.24\n",
       "331  331   20.62  1.87   23.45   1.75  20.96  1.68  34.64  1.76  24.80  1.46\n",
       "150  150  111.99  6.33  125.88   5.13  45.67  3.74  84.80  3.93  52.74  3.10\n",
       "148  148  116.72  6.08  133.82   6.32  44.55  3.60  78.04  3.99  48.78  2.72"
      ]
     },
     "execution_count": 29,
     "metadata": {},
     "output_type": "execute_result"
    }
   ],
   "source": [
    "X_train.head()"
   ]
  },
  {
   "cell_type": "code",
   "execution_count": 42,
   "metadata": {},
   "outputs": [
    {
     "data": {
      "text/plain": [
       "KMeans(algorithm='auto', copy_x=True, init='k-means++', max_iter=300,\n",
       "       n_clusters=6, n_init=10, n_jobs=None, precompute_distances='auto',\n",
       "       random_state=None, tol=0.0001, verbose=0)"
      ]
     },
     "execution_count": 42,
     "metadata": {},
     "output_type": "execute_result"
    }
   ],
   "source": [
    "km=KMeans(n_clusters=6)\n",
    "km"
   ]
  },
  {
   "cell_type": "code",
   "execution_count": 43,
   "metadata": {},
   "outputs": [
    {
     "data": {
      "text/plain": [
       "array([0, 0, 0, 2, 2, 0, 5, 0, 5, 1, 0, 0, 0, 1, 2, 0, 2, 0, 0, 5, 0, 4,\n",
       "       4, 5, 5, 0, 2, 0, 4, 0, 0, 0, 0, 5, 2, 2, 2, 4, 0, 5, 0, 4, 2, 0,\n",
       "       3, 4, 5, 2, 0, 5, 5, 3, 3, 4, 1, 5, 5, 0, 0, 0, 0, 2, 0, 0, 2, 2,\n",
       "       5, 2, 5, 0, 0, 0, 0, 5, 0, 0, 2, 1, 2, 0, 1, 0, 2, 0, 5, 0, 5, 2,\n",
       "       0, 0, 0, 2, 5, 3, 0, 0, 5, 0, 5, 5, 0, 2, 0, 5, 0, 0, 5, 2, 0, 5,\n",
       "       5, 5, 0, 0, 0, 0, 0, 0, 5, 2, 5, 5, 5, 2, 4, 5, 2, 0, 0, 0, 0, 5,\n",
       "       0, 4, 5, 2, 0, 0, 0, 4, 2, 2, 0, 0, 0, 5, 0, 2, 4, 0, 0, 4, 0, 1,\n",
       "       2, 0, 0, 2, 5, 3, 4, 3, 0, 5, 4, 2, 2, 0, 0, 0, 4, 2, 0, 0, 0, 0,\n",
       "       2, 4, 5, 0, 0, 0, 0, 0, 4, 4, 0, 5, 5, 4, 0, 5, 0, 0, 0, 1, 0, 2,\n",
       "       0, 4, 2, 2, 0, 0, 0, 0, 0, 0, 3, 0, 5, 0, 2, 0, 0, 0, 4, 2, 4, 5,\n",
       "       0, 2, 0, 5, 0, 0, 1, 0, 0, 5, 5, 0, 4, 2, 2, 0, 0, 4, 0, 0, 0, 0,\n",
       "       0, 0, 4, 4, 2, 0, 0, 4, 5, 5, 2, 2, 0, 0, 2, 2, 5, 0, 4, 0, 0, 2,\n",
       "       0, 0, 4, 0, 0, 0, 0, 1, 2, 0, 0, 5, 5, 0, 0, 5, 2, 5, 0, 0, 0, 0,\n",
       "       2, 0, 4, 0, 0, 5, 0, 0, 0, 0, 0, 0, 5, 0, 0, 0, 5, 4, 0, 5, 5, 4,\n",
       "       0, 4, 4, 0, 0, 0, 4, 0, 5, 5, 0, 2, 5, 4, 0, 0, 5, 5, 0, 5, 5, 0])"
      ]
     },
     "execution_count": 43,
     "metadata": {},
     "output_type": "execute_result"
    }
   ],
   "source": [
    "y_predicted=km.fit_predict(X_train[['huml','humw','ulnal','ulnaw','feml','femw','tibl','tibw','tarl','tarw']])\n",
    "y_predicted"
   ]
  },
  {
   "cell_type": "code",
   "execution_count": 54,
   "metadata": {},
   "outputs": [
    {
     "data": {
      "text/html": [
       "<div>\n",
       "<style scoped>\n",
       "    .dataframe tbody tr th:only-of-type {\n",
       "        vertical-align: middle;\n",
       "    }\n",
       "\n",
       "    .dataframe tbody tr th {\n",
       "        vertical-align: top;\n",
       "    }\n",
       "\n",
       "    .dataframe thead th {\n",
       "        text-align: right;\n",
       "    }\n",
       "</style>\n",
       "<table border=\"1\" class=\"dataframe\">\n",
       "  <thead>\n",
       "    <tr style=\"text-align: right;\">\n",
       "      <th></th>\n",
       "      <th>id</th>\n",
       "      <th>huml</th>\n",
       "      <th>humw</th>\n",
       "      <th>ulnal</th>\n",
       "      <th>ulnaw</th>\n",
       "      <th>feml</th>\n",
       "      <th>femw</th>\n",
       "      <th>tibl</th>\n",
       "      <th>tibw</th>\n",
       "      <th>tarl</th>\n",
       "      <th>tarw</th>\n",
       "      <th>cluster</th>\n",
       "    </tr>\n",
       "  </thead>\n",
       "  <tbody>\n",
       "    <tr>\n",
       "      <th>267</th>\n",
       "      <td>267</td>\n",
       "      <td>26.92</td>\n",
       "      <td>2.73</td>\n",
       "      <td>31.54</td>\n",
       "      <td>2.01</td>\n",
       "      <td>19.10</td>\n",
       "      <td>1.59</td>\n",
       "      <td>26.68</td>\n",
       "      <td>1.35</td>\n",
       "      <td>13.21</td>\n",
       "      <td>1.23</td>\n",
       "      <td>0</td>\n",
       "    </tr>\n",
       "    <tr>\n",
       "      <th>287</th>\n",
       "      <td>287</td>\n",
       "      <td>20.06</td>\n",
       "      <td>1.73</td>\n",
       "      <td>23.15</td>\n",
       "      <td>1.49</td>\n",
       "      <td>16.63</td>\n",
       "      <td>1.57</td>\n",
       "      <td>24.71</td>\n",
       "      <td>1.29</td>\n",
       "      <td>15.19</td>\n",
       "      <td>1.24</td>\n",
       "      <td>0</td>\n",
       "    </tr>\n",
       "    <tr>\n",
       "      <th>331</th>\n",
       "      <td>331</td>\n",
       "      <td>20.62</td>\n",
       "      <td>1.87</td>\n",
       "      <td>23.45</td>\n",
       "      <td>1.75</td>\n",
       "      <td>20.96</td>\n",
       "      <td>1.68</td>\n",
       "      <td>34.64</td>\n",
       "      <td>1.76</td>\n",
       "      <td>24.80</td>\n",
       "      <td>1.46</td>\n",
       "      <td>0</td>\n",
       "    </tr>\n",
       "    <tr>\n",
       "      <th>150</th>\n",
       "      <td>150</td>\n",
       "      <td>111.99</td>\n",
       "      <td>6.33</td>\n",
       "      <td>125.88</td>\n",
       "      <td>5.13</td>\n",
       "      <td>45.67</td>\n",
       "      <td>3.74</td>\n",
       "      <td>84.80</td>\n",
       "      <td>3.93</td>\n",
       "      <td>52.74</td>\n",
       "      <td>3.10</td>\n",
       "      <td>2</td>\n",
       "    </tr>\n",
       "    <tr>\n",
       "      <th>148</th>\n",
       "      <td>148</td>\n",
       "      <td>116.72</td>\n",
       "      <td>6.08</td>\n",
       "      <td>133.82</td>\n",
       "      <td>6.32</td>\n",
       "      <td>44.55</td>\n",
       "      <td>3.60</td>\n",
       "      <td>78.04</td>\n",
       "      <td>3.99</td>\n",
       "      <td>48.78</td>\n",
       "      <td>2.72</td>\n",
       "      <td>2</td>\n",
       "    </tr>\n",
       "  </tbody>\n",
       "</table>\n",
       "</div>"
      ],
      "text/plain": [
       "      id    huml  humw   ulnal  ulnaw   feml  femw   tibl  tibw   tarl  tarw  \\\n",
       "267  267   26.92  2.73   31.54   2.01  19.10  1.59  26.68  1.35  13.21  1.23   \n",
       "287  287   20.06  1.73   23.15   1.49  16.63  1.57  24.71  1.29  15.19  1.24   \n",
       "331  331   20.62  1.87   23.45   1.75  20.96  1.68  34.64  1.76  24.80  1.46   \n",
       "150  150  111.99  6.33  125.88   5.13  45.67  3.74  84.80  3.93  52.74  3.10   \n",
       "148  148  116.72  6.08  133.82   6.32  44.55  3.60  78.04  3.99  48.78  2.72   \n",
       "\n",
       "     cluster  \n",
       "267        0  \n",
       "287        0  \n",
       "331        0  \n",
       "150        2  \n",
       "148        2  "
      ]
     },
     "execution_count": 54,
     "metadata": {},
     "output_type": "execute_result"
    }
   ],
   "source": [
    "X_train['cluster']=y_predicted\n",
    "X_train.head()"
   ]
  },
  {
   "cell_type": "code",
   "execution_count": 55,
   "metadata": {},
   "outputs": [
    {
     "data": {
      "text/plain": [
       "<function matplotlib.pyplot.legend(*args, **kwargs)>"
      ]
     },
     "execution_count": 55,
     "metadata": {},
     "output_type": "execute_result"
    },
    {
     "data": {
      "image/png": "[encoded data removed]",
      "text/plain": [
       "<Figure size 432x288 with 1 Axes>"
      ]
     },
     "metadata": {
      "needs_background": "light"
     },
     "output_type": "display_data"
    }
   ],
   "source": [
    "df1=X_train[X_train.cluster==0]\n",
    "df2=X_train[X_train.cluster==1]\n",
    "df3=X_train[X_train.cluster==2]\n",
    "df4=X_train[X_train.cluster==3]\n",
    "df5=X_train[X_train.cluster==4]\n",
    "df6=X_train[X_train.cluster==5]\n",
    "\n",
    "\n",
    "plt.scatter(df1.huml,df1.tarl,color='green')\n",
    "plt.scatter(df2.huml,df2.tarl,color='red')\n",
    "plt.scatter(df3.huml,df3.tarl,color='violet')\n",
    "plt.scatter(df4.huml,df4.tarl,color='blue')\n",
    "plt.scatter(df5.huml,df5.tarl,color='orange')\n",
    "plt.scatter(df6.huml,df6.tarl,color='black')\n",
    "\n",
    "\n",
    "plt.xlabel('huml')\n",
    "plt.ylabel('tarl')\n",
    "plt.legend\n"
   ]
  },
  {
   "cell_type": "code",
   "execution_count": 40,
   "metadata": {},
   "outputs": [
    {
     "data": {
      "text/html": [
       "<div>\n",
       "<style scoped>\n",
       "    .dataframe tbody tr th:only-of-type {\n",
       "        vertical-align: middle;\n",
       "    }\n",
       "\n",
       "    .dataframe tbody tr th {\n",
       "        vertical-align: top;\n",
       "    }\n",
       "\n",
       "    .dataframe thead th {\n",
       "        text-align: right;\n",
       "    }\n",
       "</style>\n",
       "<table border=\"1\" class=\"dataframe\">\n",
       "  <thead>\n",
       "    <tr style=\"text-align: right;\">\n",
       "      <th></th>\n",
       "      <th>id</th>\n",
       "      <th>huml</th>\n",
       "      <th>humw</th>\n",
       "      <th>ulnal</th>\n",
       "      <th>ulnaw</th>\n",
       "      <th>feml</th>\n",
       "      <th>femw</th>\n",
       "      <th>tibl</th>\n",
       "      <th>tibw</th>\n",
       "      <th>tarl</th>\n",
       "      <th>tarw</th>\n",
       "    </tr>\n",
       "  </thead>\n",
       "  <tbody>\n",
       "    <tr>\n",
       "      <th>190</th>\n",
       "      <td>190</td>\n",
       "      <td>32.34</td>\n",
       "      <td>3.17</td>\n",
       "      <td>29.05</td>\n",
       "      <td>2.36</td>\n",
       "      <td>39.64</td>\n",
       "      <td>2.70</td>\n",
       "      <td>55.36</td>\n",
       "      <td>2.51</td>\n",
       "      <td>37.08</td>\n",
       "      <td>2.22</td>\n",
       "    </tr>\n",
       "    <tr>\n",
       "      <th>376</th>\n",
       "      <td>376</td>\n",
       "      <td>23.52</td>\n",
       "      <td>2.16</td>\n",
       "      <td>29.33</td>\n",
       "      <td>1.72</td>\n",
       "      <td>20.59</td>\n",
       "      <td>1.49</td>\n",
       "      <td>32.45</td>\n",
       "      <td>1.13</td>\n",
       "      <td>19.33</td>\n",
       "      <td>1.00</td>\n",
       "    </tr>\n",
       "    <tr>\n",
       "      <th>329</th>\n",
       "      <td>329</td>\n",
       "      <td>21.85</td>\n",
       "      <td>2.06</td>\n",
       "      <td>25.90</td>\n",
       "      <td>1.75</td>\n",
       "      <td>20.86</td>\n",
       "      <td>1.72</td>\n",
       "      <td>34.26</td>\n",
       "      <td>1.43</td>\n",
       "      <td>23.25</td>\n",
       "      <td>1.18</td>\n",
       "    </tr>\n",
       "    <tr>\n",
       "      <th>236</th>\n",
       "      <td>236</td>\n",
       "      <td>116.85</td>\n",
       "      <td>7.43</td>\n",
       "      <td>134.80</td>\n",
       "      <td>6.19</td>\n",
       "      <td>73.51</td>\n",
       "      <td>6.10</td>\n",
       "      <td>112.66</td>\n",
       "      <td>5.94</td>\n",
       "      <td>61.25</td>\n",
       "      <td>6.90</td>\n",
       "    </tr>\n",
       "    <tr>\n",
       "      <th>290</th>\n",
       "      <td>290</td>\n",
       "      <td>30.28</td>\n",
       "      <td>2.89</td>\n",
       "      <td>35.37</td>\n",
       "      <td>2.15</td>\n",
       "      <td>31.09</td>\n",
       "      <td>2.51</td>\n",
       "      <td>53.36</td>\n",
       "      <td>2.31</td>\n",
       "      <td>39.52</td>\n",
       "      <td>1.69</td>\n",
       "    </tr>\n",
       "    <tr>\n",
       "      <th>...</th>\n",
       "      <td>...</td>\n",
       "      <td>...</td>\n",
       "      <td>...</td>\n",
       "      <td>...</td>\n",
       "      <td>...</td>\n",
       "      <td>...</td>\n",
       "      <td>...</td>\n",
       "      <td>...</td>\n",
       "      <td>...</td>\n",
       "      <td>...</td>\n",
       "      <td>...</td>\n",
       "    </tr>\n",
       "    <tr>\n",
       "      <th>322</th>\n",
       "      <td>322</td>\n",
       "      <td>27.90</td>\n",
       "      <td>2.51</td>\n",
       "      <td>31.56</td>\n",
       "      <td>2.07</td>\n",
       "      <td>24.08</td>\n",
       "      <td>2.28</td>\n",
       "      <td>45.90</td>\n",
       "      <td>2.09</td>\n",
       "      <td>34.98</td>\n",
       "      <td>1.60</td>\n",
       "    </tr>\n",
       "    <tr>\n",
       "      <th>92</th>\n",
       "      <td>92</td>\n",
       "      <td>69.37</td>\n",
       "      <td>4.07</td>\n",
       "      <td>67.08</td>\n",
       "      <td>3.61</td>\n",
       "      <td>28.50</td>\n",
       "      <td>2.26</td>\n",
       "      <td>53.42</td>\n",
       "      <td>2.03</td>\n",
       "      <td>31.08</td>\n",
       "      <td>1.99</td>\n",
       "    </tr>\n",
       "    <tr>\n",
       "      <th>215</th>\n",
       "      <td>215</td>\n",
       "      <td>89.05</td>\n",
       "      <td>6.28</td>\n",
       "      <td>102.09</td>\n",
       "      <td>5.37</td>\n",
       "      <td>70.32</td>\n",
       "      <td>5.90</td>\n",
       "      <td>96.12</td>\n",
       "      <td>5.70</td>\n",
       "      <td>75.05</td>\n",
       "      <td>5.12</td>\n",
       "    </tr>\n",
       "    <tr>\n",
       "      <th>125</th>\n",
       "      <td>125</td>\n",
       "      <td>30.99</td>\n",
       "      <td>2.09</td>\n",
       "      <td>26.14</td>\n",
       "      <td>1.82</td>\n",
       "      <td>32.83</td>\n",
       "      <td>2.09</td>\n",
       "      <td>50.67</td>\n",
       "      <td>1.98</td>\n",
       "      <td>30.80</td>\n",
       "      <td>1.95</td>\n",
       "    </tr>\n",
       "    <tr>\n",
       "      <th>40</th>\n",
       "      <td>40</td>\n",
       "      <td>100.62</td>\n",
       "      <td>6.60</td>\n",
       "      <td>110.00</td>\n",
       "      <td>5.80</td>\n",
       "      <td>36.11</td>\n",
       "      <td>2.93</td>\n",
       "      <td>55.10</td>\n",
       "      <td>3.19</td>\n",
       "      <td>28.81</td>\n",
       "      <td>4.82</td>\n",
       "    </tr>\n",
       "  </tbody>\n",
       "</table>\n",
       "<p>83 rows × 11 columns</p>\n",
       "</div>"
      ],
      "text/plain": [
       "      id    huml  humw   ulnal  ulnaw   feml  femw    tibl  tibw   tarl  tarw\n",
       "190  190   32.34  3.17   29.05   2.36  39.64  2.70   55.36  2.51  37.08  2.22\n",
       "376  376   23.52  2.16   29.33   1.72  20.59  1.49   32.45  1.13  19.33  1.00\n",
       "329  329   21.85  2.06   25.90   1.75  20.86  1.72   34.26  1.43  23.25  1.18\n",
       "236  236  116.85  7.43  134.80   6.19  73.51  6.10  112.66  5.94  61.25  6.90\n",
       "290  290   30.28  2.89   35.37   2.15  31.09  2.51   53.36  2.31  39.52  1.69\n",
       "..   ...     ...   ...     ...    ...    ...   ...     ...   ...    ...   ...\n",
       "322  322   27.90  2.51   31.56   2.07  24.08  2.28   45.90  2.09  34.98  1.60\n",
       "92    92   69.37  4.07   67.08   3.61  28.50  2.26   53.42  2.03  31.08  1.99\n",
       "215  215   89.05  6.28  102.09   5.37  70.32  5.90   96.12  5.70  75.05  5.12\n",
       "125  125   30.99  2.09   26.14   1.82  32.83  2.09   50.67  1.98  30.80  1.95\n",
       "40    40  100.62  6.60  110.00   5.80  36.11  2.93   55.10  3.19  28.81  4.82\n",
       "\n",
       "[83 rows x 11 columns]"
      ]
     },
     "execution_count": 40,
     "metadata": {},
     "output_type": "execute_result"
    }
   ],
   "source": [
    "X_test"
   ]
  },
  {
   "cell_type": "markdown",
   "metadata": {},
   "source": [
    "# km1=KMeans(n_clusters=6)\n",
    "y_predicted1=km1.fit_predict(X_test[['huml','humw','ulnal','ulnaw','feml','femw','tibl','tibw','tarl','tarw']])\n",
    "y_predicted1"
   ]
  },
  {
   "cell_type": "code",
   "execution_count": 75,
   "metadata": {},
   "outputs": [
    {
     "data": {
      "text/plain": [
       "array([[157.        ,   9.        , 192.        ,   7.02      ,\n",
       "         85.6       ,   6.44      , 227.        ,   6.84      ,\n",
       "        175.        ,   6.77      ],\n",
       "       [ 77.12555556,   4.54833333,  75.56777778,   3.96944444,\n",
       "         36.33722222,   2.91111111,  68.18888889,   3.00555556,\n",
       "         39.17833333,   2.825     ],\n",
       "       [ 27.9925    ,   2.48625   ,  30.78354167,   2.15020833,\n",
       "         24.001875  ,   1.91      ,  39.07666667,   1.74541667,\n",
       "         25.28395833,   1.69375   ],\n",
       "       [172.75      ,   9.955     , 207.75      ,   7.79      ,\n",
       "         53.76      ,   6.7025    ,  75.6175    ,   5.215     ,\n",
       "         34.0175    ,   7.4725    ],\n",
       "       [272.        ,  14.86      , 320.        ,  10.42      ,\n",
       "         91.6       ,   9.71      , 132.        ,  10.23      ,\n",
       "         81.77      ,   8.91      ],\n",
       "       [111.06727273,   7.25      , 122.76181818,   5.82454545,\n",
       "         72.63636364,   6.33454545, 114.35      ,   6.14272727,\n",
       "         74.34727273,   5.64818182]])"
      ]
     },
     "execution_count": 75,
     "metadata": {},
     "output_type": "execute_result"
    }
   ],
   "source": [
    "np.array(km1.cluster_centers_)\n"
   ]
  },
  {
   "cell_type": "code",
   "execution_count": 61,
   "metadata": {},
   "outputs": [
    {
     "data": {
      "text/plain": [
       "array([4, 2, 2, 1, 2, 1, 2, 2, 3, 1, 3, 3, 5, 3, 3, 2, 2, 0, 3, 1, 2, 1,\n",
       "       2, 5, 5, 0, 3, 5, 5, 3, 2, 2, 3, 2, 3, 1, 3, 5, 5, 3, 3, 2, 2, 3,\n",
       "       2, 4, 4, 3, 3, 5, 5, 3, 5, 2, 2, 0, 1, 2, 0, 2, 5, 0, 2, 0, 3, 2,\n",
       "       0, 2, 1, 3, 5, 2, 2, 3, 1, 2, 0, 3, 2, 3, 1, 5, 3], dtype=int64)"
      ]
     },
     "execution_count": 61,
     "metadata": {},
     "output_type": "execute_result"
    }
   ],
   "source": [
    "# label_encoder object knows how to understand word labels. \n",
    "label_encoder = preprocessing.LabelEncoder() \n",
    "  \n",
    "# Encode labels in column 'species'. \n",
    "Y_test= label_encoder.fit_transform(Y_test) \n",
    "  \n",
    "Y_test"
   ]
  },
  {
   "cell_type": "code",
   "execution_count": 69,
   "metadata": {},
   "outputs": [
    {
     "name": "stdout",
     "output_type": "stream",
     "text": [
      "              precision    recall  f1-score   support\n",
      "\n",
      "           0       0.00      0.00      0.00         8\n",
      "           1       0.00      0.00      0.00        10\n",
      "           2       0.54      1.00      0.70        26\n",
      "           3       1.00      0.17      0.30        23\n",
      "           4       0.00      0.00      0.00         3\n",
      "           5       0.09      0.08      0.08        13\n",
      "\n",
      "    accuracy                           0.37        83\n",
      "   macro avg       0.27      0.21      0.18        83\n",
      "weighted avg       0.46      0.37      0.32        83\n",
      "\n"
     ]
    }
   ],
   "source": [
    "from sklearn.metrics import confusion_matrix \n",
    "from sklearn.metrics import accuracy_score \n",
    "from sklearn.metrics import classification_report \n",
    "\n",
    "exp=Y_test\n",
    "pred=y_predicted1\n",
    "\n",
    "print(classification_report(exp,pred))\n"
   ]
  },
  {
   "cell_type": "code",
   "execution_count": 70,
   "metadata": {},
   "outputs": [
    {
     "name": "stdout",
     "output_type": "stream",
     "text": [
      "              precision    recall  f1-score   support\n",
      "\n",
      "           0       0.00      0.00      0.00         8\n",
      "           1       0.00      0.00      0.00        10\n",
      "           2       0.54      1.00      0.70        26\n",
      "           3       1.00      0.17      0.30        23\n",
      "           4       0.00      0.00      0.00         3\n",
      "           5       0.09      0.08      0.08        13\n",
      "\n",
      "    accuracy                           0.37        83\n",
      "   macro avg       0.27      0.21      0.18        83\n",
      "weighted avg       0.46      0.37      0.32        83\n",
      "\n"
     ]
    }
   ],
   "source": [
    "print(classification_report(exp,pred))"
   ]
  },
  {
   "cell_type": "code",
   "execution_count": 88,
   "metadata": {},
   "outputs": [
    {
     "data": {
      "image/png": "[encoded data removed]",
      "text/plain": [
       "<Figure size 432x288 with 1 Axes>"
      ]
     },
     "metadata": {
      "needs_background": "light"
     },
     "output_type": "display_data"
    }
   ],
   "source": [
    "#Implementation using own function\n",
    "\n",
    "#Initializing the centroids dictionary which stores the cluster number and the centroid generarted randomly\n",
    "k=3\n",
    "centroids = {\n",
    "    i+1 : [np.random.randint(0,100) , np.random.randint(0,100)]\n",
    "    for i in range(k)\n",
    "}\n",
    "\n",
    "#Plotting data before clustering it.\n",
    "import matplotlib.pyplot as plt \n",
    "\n",
    "x = X_train[\"huml\"]\n",
    "y= X_train[\"tarl\"]\n",
    "colmap = {\n",
    "    1 : 'r',\n",
    "    2 : 'g',\n",
    "    3 : 'b'\n",
    "}\n",
    "\n",
    "plt.scatter(x,y,color = \"k\")\n",
    "for i in centroids.keys():\n",
    "    plt.scatter(*centroids[i] , color = colmap[i])\n",
    "plt.show()"
   ]
  },
  {
   "cell_type": "code",
   "execution_count": 89,
   "metadata": {},
   "outputs": [],
   "source": [
    "def assignment(X_train,centroids):\n",
    "    for i in centroids.keys():\n",
    "        X_train[\"distance_from_{}\".format(i)] = (\n",
    "            np.sqrt(\n",
    "                (x - centroids[i][0]) **2\n",
    "                +\n",
    "                (y - centroids[i][1]) **2\n",
    "            )\n",
    "        )\n",
    "        \n",
    "        centroid_distance_cols = [\"distance_from_{}\".format(i) for i in centroids.keys()]\n",
    "\n",
    "        X_train[\"closest\"] = X_train.loc[: , centroid_distance_cols].idxmin(axis = 1)\n",
    "        X_train[\"closest\"] = X_train[\"closest\"].map(\n",
    "            lambda x: int(x.lstrip(\"distance_from_\"))\n",
    "        )\n",
    "        X_train[\"color\"] = X_train[\"closest\"].map(lambda x: colmap[x])\n",
    "    return X_train\n",
    "\n",
    "#Function to update the centroids of the cluster\n",
    "def update(k):\n",
    "    for i in centroids.keys():\n",
    "        centroids[i][0] = np.mean(X_train[X_train[\"closest\"] == i][\"huml\"])\n",
    "        centroids[i][1] = np.mean(X_train[X_train[\"closest\"] == i][\"tarl\"])\n",
    "    return k"
   ]
  },
  {
   "cell_type": "code",
   "execution_count": 90,
   "metadata": {},
   "outputs": [
    {
     "ename": "KeyError",
     "evalue": "'closest'",
     "output_type": "error",
     "traceback": [
      "\u001b[1;31m---------------------------------------------------------------------------\u001b[0m",
      "\u001b[1;31mKeyError\u001b[0m                                  Traceback (most recent call last)",
      "\u001b[1;32m~\\anaconda3\\lib\\site-packages\\pandas\\core\\indexes\\base.py\u001b[0m in \u001b[0;36mget_loc\u001b[1;34m(self, key, method, tolerance)\u001b[0m\n\u001b[0;32m   2645\u001b[0m             \u001b[1;32mtry\u001b[0m\u001b[1;33m:\u001b[0m\u001b[1;33m\u001b[0m\u001b[1;33m\u001b[0m\u001b[0m\n\u001b[1;32m-> 2646\u001b[1;33m                 \u001b[1;32mreturn\u001b[0m \u001b[0mself\u001b[0m\u001b[1;33m.\u001b[0m\u001b[0m_engine\u001b[0m\u001b[1;33m.\u001b[0m\u001b[0mget_loc\u001b[0m\u001b[1;33m(\u001b[0m\u001b[0mkey\u001b[0m\u001b[1;33m)\u001b[0m\u001b[1;33m\u001b[0m\u001b[1;33m\u001b[0m\u001b[0m\n\u001b[0m\u001b[0;32m   2647\u001b[0m             \u001b[1;32mexcept\u001b[0m \u001b[0mKeyError\u001b[0m\u001b[1;33m:\u001b[0m\u001b[1;33m\u001b[0m\u001b[1;33m\u001b[0m\u001b[0m\n",
      "\u001b[1;32mpandas\\_libs\\index.pyx\u001b[0m in \u001b[0;36mpandas._libs.index.IndexEngine.get_loc\u001b[1;34m()\u001b[0m\n",
      "\u001b[1;32mpandas\\_libs\\index.pyx\u001b[0m in \u001b[0;36mpandas._libs.index.IndexEngine.get_loc\u001b[1;34m()\u001b[0m\n",
      "\u001b[1;32mpandas\\_libs\\hashtable_class_helper.pxi\u001b[0m in \u001b[0;36mpandas._libs.hashtable.PyObjectHashTable.get_item\u001b[1;34m()\u001b[0m\n",
      "\u001b[1;32mpandas\\_libs\\hashtable_class_helper.pxi\u001b[0m in \u001b[0;36mpandas._libs.hashtable.PyObjectHashTable.get_item\u001b[1;34m()\u001b[0m\n",
      "\u001b[1;31mKeyError\u001b[0m: 'closest'",
      "\nDuring handling of the above exception, another exception occurred:\n",
      "\u001b[1;31mKeyError\u001b[0m                                  Traceback (most recent call last)",
      "\u001b[1;32m<ipython-input-90-1d783418f910>\u001b[0m in \u001b[0;36m<module>\u001b[1;34m\u001b[0m\n\u001b[0;32m      2\u001b[0m \u001b[1;31m#Driver function to find centroids till they are exact same after a iteration\u001b[0m\u001b[1;33m\u001b[0m\u001b[1;33m\u001b[0m\u001b[1;33m\u001b[0m\u001b[0m\n\u001b[0;32m      3\u001b[0m \u001b[1;32mwhile\u001b[0m \u001b[1;32mTrue\u001b[0m\u001b[1;33m:\u001b[0m\u001b[1;33m\u001b[0m\u001b[1;33m\u001b[0m\u001b[0m\n\u001b[1;32m----> 4\u001b[1;33m     \u001b[0mclosest_centroids\u001b[0m \u001b[1;33m=\u001b[0m \u001b[0mX_train\u001b[0m\u001b[1;33m[\u001b[0m\u001b[1;34m\"closest\"\u001b[0m\u001b[1;33m]\u001b[0m\u001b[1;33m.\u001b[0m\u001b[0mcopy\u001b[0m\u001b[1;33m(\u001b[0m\u001b[0mdeep\u001b[0m\u001b[1;33m=\u001b[0m\u001b[1;32mTrue\u001b[0m\u001b[1;33m)\u001b[0m\u001b[1;33m\u001b[0m\u001b[1;33m\u001b[0m\u001b[0m\n\u001b[0m\u001b[0;32m      5\u001b[0m     \u001b[0mcentroids\u001b[0m \u001b[1;33m=\u001b[0m \u001b[0mupdate\u001b[0m\u001b[1;33m(\u001b[0m\u001b[0mcentroids\u001b[0m\u001b[1;33m)\u001b[0m\u001b[1;33m\u001b[0m\u001b[1;33m\u001b[0m\u001b[0m\n\u001b[0;32m      6\u001b[0m     \u001b[0mX_train\u001b[0m \u001b[1;33m=\u001b[0m \u001b[0massignment\u001b[0m\u001b[1;33m(\u001b[0m\u001b[0mX_train\u001b[0m\u001b[1;33m,\u001b[0m\u001b[0mcentroids\u001b[0m\u001b[1;33m)\u001b[0m\u001b[1;33m\u001b[0m\u001b[1;33m\u001b[0m\u001b[0m\n",
      "\u001b[1;32m~\\anaconda3\\lib\\site-packages\\pandas\\core\\frame.py\u001b[0m in \u001b[0;36m__getitem__\u001b[1;34m(self, key)\u001b[0m\n\u001b[0;32m   2798\u001b[0m             \u001b[1;32mif\u001b[0m \u001b[0mself\u001b[0m\u001b[1;33m.\u001b[0m\u001b[0mcolumns\u001b[0m\u001b[1;33m.\u001b[0m\u001b[0mnlevels\u001b[0m \u001b[1;33m>\u001b[0m \u001b[1;36m1\u001b[0m\u001b[1;33m:\u001b[0m\u001b[1;33m\u001b[0m\u001b[1;33m\u001b[0m\u001b[0m\n\u001b[0;32m   2799\u001b[0m                 \u001b[1;32mreturn\u001b[0m \u001b[0mself\u001b[0m\u001b[1;33m.\u001b[0m\u001b[0m_getitem_multilevel\u001b[0m\u001b[1;33m(\u001b[0m\u001b[0mkey\u001b[0m\u001b[1;33m)\u001b[0m\u001b[1;33m\u001b[0m\u001b[1;33m\u001b[0m\u001b[0m\n\u001b[1;32m-> 2800\u001b[1;33m             \u001b[0mindexer\u001b[0m \u001b[1;33m=\u001b[0m \u001b[0mself\u001b[0m\u001b[1;33m.\u001b[0m\u001b[0mcolumns\u001b[0m\u001b[1;33m.\u001b[0m\u001b[0mget_loc\u001b[0m\u001b[1;33m(\u001b[0m\u001b[0mkey\u001b[0m\u001b[1;33m)\u001b[0m\u001b[1;33m\u001b[0m\u001b[1;33m\u001b[0m\u001b[0m\n\u001b[0m\u001b[0;32m   2801\u001b[0m             \u001b[1;32mif\u001b[0m \u001b[0mis_integer\u001b[0m\u001b[1;33m(\u001b[0m\u001b[0mindexer\u001b[0m\u001b[1;33m)\u001b[0m\u001b[1;33m:\u001b[0m\u001b[1;33m\u001b[0m\u001b[1;33m\u001b[0m\u001b[0m\n\u001b[0;32m   2802\u001b[0m                 \u001b[0mindexer\u001b[0m \u001b[1;33m=\u001b[0m \u001b[1;33m[\u001b[0m\u001b[0mindexer\u001b[0m\u001b[1;33m]\u001b[0m\u001b[1;33m\u001b[0m\u001b[1;33m\u001b[0m\u001b[0m\n",
      "\u001b[1;32m~\\anaconda3\\lib\\site-packages\\pandas\\core\\indexes\\base.py\u001b[0m in \u001b[0;36mget_loc\u001b[1;34m(self, key, method, tolerance)\u001b[0m\n\u001b[0;32m   2646\u001b[0m                 \u001b[1;32mreturn\u001b[0m \u001b[0mself\u001b[0m\u001b[1;33m.\u001b[0m\u001b[0m_engine\u001b[0m\u001b[1;33m.\u001b[0m\u001b[0mget_loc\u001b[0m\u001b[1;33m(\u001b[0m\u001b[0mkey\u001b[0m\u001b[1;33m)\u001b[0m\u001b[1;33m\u001b[0m\u001b[1;33m\u001b[0m\u001b[0m\n\u001b[0;32m   2647\u001b[0m             \u001b[1;32mexcept\u001b[0m \u001b[0mKeyError\u001b[0m\u001b[1;33m:\u001b[0m\u001b[1;33m\u001b[0m\u001b[1;33m\u001b[0m\u001b[0m\n\u001b[1;32m-> 2648\u001b[1;33m                 \u001b[1;32mreturn\u001b[0m \u001b[0mself\u001b[0m\u001b[1;33m.\u001b[0m\u001b[0m_engine\u001b[0m\u001b[1;33m.\u001b[0m\u001b[0mget_loc\u001b[0m\u001b[1;33m(\u001b[0m\u001b[0mself\u001b[0m\u001b[1;33m.\u001b[0m\u001b[0m_maybe_cast_indexer\u001b[0m\u001b[1;33m(\u001b[0m\u001b[0mkey\u001b[0m\u001b[1;33m)\u001b[0m\u001b[1;33m)\u001b[0m\u001b[1;33m\u001b[0m\u001b[1;33m\u001b[0m\u001b[0m\n\u001b[0m\u001b[0;32m   2649\u001b[0m         \u001b[0mindexer\u001b[0m \u001b[1;33m=\u001b[0m \u001b[0mself\u001b[0m\u001b[1;33m.\u001b[0m\u001b[0mget_indexer\u001b[0m\u001b[1;33m(\u001b[0m\u001b[1;33m[\u001b[0m\u001b[0mkey\u001b[0m\u001b[1;33m]\u001b[0m\u001b[1;33m,\u001b[0m \u001b[0mmethod\u001b[0m\u001b[1;33m=\u001b[0m\u001b[0mmethod\u001b[0m\u001b[1;33m,\u001b[0m \u001b[0mtolerance\u001b[0m\u001b[1;33m=\u001b[0m\u001b[0mtolerance\u001b[0m\u001b[1;33m)\u001b[0m\u001b[1;33m\u001b[0m\u001b[1;33m\u001b[0m\u001b[0m\n\u001b[0;32m   2650\u001b[0m         \u001b[1;32mif\u001b[0m \u001b[0mindexer\u001b[0m\u001b[1;33m.\u001b[0m\u001b[0mndim\u001b[0m \u001b[1;33m>\u001b[0m \u001b[1;36m1\u001b[0m \u001b[1;32mor\u001b[0m \u001b[0mindexer\u001b[0m\u001b[1;33m.\u001b[0m\u001b[0msize\u001b[0m \u001b[1;33m>\u001b[0m \u001b[1;36m1\u001b[0m\u001b[1;33m:\u001b[0m\u001b[1;33m\u001b[0m\u001b[1;33m\u001b[0m\u001b[0m\n",
      "\u001b[1;32mpandas\\_libs\\index.pyx\u001b[0m in \u001b[0;36mpandas._libs.index.IndexEngine.get_loc\u001b[1;34m()\u001b[0m\n",
      "\u001b[1;32mpandas\\_libs\\index.pyx\u001b[0m in \u001b[0;36mpandas._libs.index.IndexEngine.get_loc\u001b[1;34m()\u001b[0m\n",
      "\u001b[1;32mpandas\\_libs\\hashtable_class_helper.pxi\u001b[0m in \u001b[0;36mpandas._libs.hashtable.PyObjectHashTable.get_item\u001b[1;34m()\u001b[0m\n",
      "\u001b[1;32mpandas\\_libs\\hashtable_class_helper.pxi\u001b[0m in \u001b[0;36mpandas._libs.hashtable.PyObjectHashTable.get_item\u001b[1;34m()\u001b[0m\n",
      "\u001b[1;31mKeyError\u001b[0m: 'closest'"
     ]
    }
   ],
   "source": [
    "def assignment(X_train,centroids):\n",
    "    for i in centroids.keys():\n",
    "        X_train[\"distance_from_{}\".format(i)] = (\n",
    "            np.sqrt(\n",
    "                (x - centroids[i][0]) **2\n",
    "                +\n",
    "                (y - centroids[i][1]) **2\n",
    "            )\n",
    "        )\n",
    "        \n",
    "        centroid_distance_cols = [\"distance_from_{}\".format(i) for i in centroids.keys()]\n",
    "\n",
    "        X_train[\"closest\"] = X_train.loc[: , centroid_distance_cols].idxmin(axis = 1)\n",
    "        X_train[\"closest\"] = X_train[\"closest\"].map(\n",
    "            lambda x: int(x.lstrip(\"distance_from_\"))\n",
    "        )\n",
    "        X_train[\"color\"] = X_train[\"closest\"].map(lambda x: colmap[x])\n",
    "    return X_train\n",
    "\n",
    "#Function to update the centroids of the cluster\n",
    "def update(k):\n",
    "    for i in centroids.keys():\n",
    "        centroids[i][0] = np.mean(X_train[X_train[\"closest\"] == i][\"huml\"])\n",
    "        centroids[i][1] = np.mean(X_train[X_train[\"closest\"] == i][\"tarl\"])\n",
    "    return k\n",
    "X_train= assignment(X_train,centroids)\n",
    "#Driver function to find centroids till they are exact same after a iteration\n",
    "while True:\n",
    "    closest_centroids = X_train[\"closest\"].copy(deep=True)\n",
    "    centroids = update(centroids)\n",
    "    X_train = assignment(X_train,centroids)\n",
    "    if closest_centroids.equals(X_train[\"closest\"]):\n",
    "        break\n",
    "\n",
    "\n",
    "#PLotting the clusters formed\n",
    "plt.scatter(X_train[\"huml\"],X_train[\"tarl\"],color = X_train[\"color\"],alpha=0.5)\n",
    "\n",
    "for i in centroids.keys():\n",
    "    plt.scatter(*centroids[i] , color=colmap[i])\n",
    "plt.show()"
   ]
  },
  {
   "cell_type": "code",
   "execution_count": null,
   "metadata": {},
   "outputs": [],
   "source": []
  },
  {
   "cell_type": "code",
   "execution_count": null,
   "metadata": {},
   "outputs": [],
   "source": []
  },
  {
   "cell_type": "code",
   "execution_count": null,
   "metadata": {},
   "outputs": [],
   "source": []
  },
  {
   "cell_type": "code",
   "execution_count": null,
   "metadata": {},
   "outputs": [],
   "source": []
  },
  {
   "cell_type": "code",
   "execution_count": null,
   "metadata": {},
   "outputs": [],
   "source": []
  },
  {
   "cell_type": "code",
   "execution_count": null,
   "metadata": {},
   "outputs": [],
   "source": []
  },
  {
   "cell_type": "code",
   "execution_count": null,
   "metadata": {},
   "outputs": [],
   "source": []
  },
  {
   "cell_type": "code",
   "execution_count": null,
   "metadata": {},
   "outputs": [],
   "source": []
  },
  {
   "cell_type": "code",
   "execution_count": 32,
   "metadata": {},
   "outputs": [
    {
     "data": {
      "text/plain": [
       "<matplotlib.collections.PathCollection at 0x205b2f2fdc8>"
      ]
     },
     "execution_count": 32,
     "metadata": {},
     "output_type": "execute_result"
    },
    {
     "data": {
      "image/png": "[encoded data removed]",
      "text/plain": [
       "<Figure size 432x288 with 1 Axes>"
      ]
     },
     "metadata": {
      "needs_background": "light"
     },
     "output_type": "display_data"
    }
   ],
   "source": [
    "plt.scatter(df['huml'],df['tarl'])"
   ]
  },
  {
   "cell_type": "code",
   "execution_count": 56,
   "metadata": {},
   "outputs": [
    {
     "data": {
      "text/plain": [
       "0      SW\n",
       "1      SW\n",
       "2      SW\n",
       "3      SW\n",
       "4      SW\n",
       "       ..\n",
       "408    SO\n",
       "409    SO\n",
       "410    SO\n",
       "411    SO\n",
       "412    SO\n",
       "Name: type, Length: 413, dtype: object"
      ]
     },
     "execution_count": 56,
     "metadata": {},
     "output_type": "execute_result"
    }
   ],
   "source": []
  },
  {
   "cell_type": "code",
   "execution_count": null,
   "metadata": {},
   "outputs": [],
   "source": []
  },
  {
   "cell_type": "code",
   "execution_count": null,
   "metadata": {},
   "outputs": [],
   "source": []
  },
  {
   "cell_type": "code",
   "execution_count": null,
   "metadata": {},
   "outputs": [],
   "source": []
  }
 ],
 "metadata": {
  "kernelspec": {
   "display_name": "Python 3",
   "language": "python",
   "name": "python3"
  },
  "language_info": {
   "codemirror_mode": {
    "name": "ipython",
    "version": 3
   },
   "file_extension": ".py",
   "mimetype": "text/x-python",
   "name": "python",
   "nbconvert_exporter": "python",
   "pygments_lexer": "ipython3",
   "version": "3.7.6"
  }
 },
 "nbformat": 4,
 "nbformat_minor": 4
}
